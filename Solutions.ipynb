{
 "cells": [
  {
   "cell_type": "markdown",
   "metadata": {},
   "source": [
    "![ine-divider](https://user-images.githubusercontent.com/7065401/92672068-398e8080-f2ee-11ea-82d6-ad53f7feb5c0.png)\n",
    "<hr>\n",
    "\n",
    "### Bash Scripting for Data Scientists\n",
    "# File operations at the shell\n",
    "\n",
    "This project will have somewhat unusual requirements among INE data science courses.  Most such projects ask you to complete cells in a notebook such as this.  However, working with the command line necessarily is about the command line, not notebooks.  \n",
    "\n",
    "There *does* exist a bash kernel for Jupyter, which this notebook is saved as. To install it execute in your terminal:\n",
    "\n",
    "```\n",
    "pip install bash_kernel\n",
    "python -m bash_kernel.install\n",
    "```\n",
    "\n",
    "and restart your Notebook.\n",
    "\n",
    "However, the kinds of interactivity you have at a shell are much more flexible than in a notebook.  However, you *can* run bash commands if you install that Jupyter kernel. E.g.:"
   ]
  },
  {
   "cell_type": "code",
   "execution_count": 1,
   "metadata": {},
   "outputs": [
    {
     "name": "stdout",
     "output_type": "stream",
     "text": [
      "total 48K\n",
      "drwxrwxr-x 11 dmertz dmertz 4.0K Dec 20 23:00 .\n",
      "drwxr-xr-x 15 dmertz dmertz 4.0K Dec 19 21:17 ..\n",
      "drwxrwxr-x  3 dmertz dmertz 4.0K Dec 20 19:23 00-Introduction\n",
      "drwxrwxr-x  3 dmertz dmertz 4.0K Dec 21 00:29 01-Working-with-Command-Line\n",
      "drwxrwxr-x  3 dmertz dmertz 4.0K Dec 18 20:57 02-The-Unix-Philosophy\n",
      "drwxrwxr-x  3 dmertz dmertz 4.0K Dec 18 20:56 03-Text-Manipulation\n",
      "drwxrwxr-x  3 dmertz dmertz 4.0K Dec 18 23:08 04-Special-Formats\n",
      "drwxrwxr-x  2 dmertz dmertz 4.0K Dec 12 01:06 05-Cron-and-Config\n",
      "drwxrwxr-x  2 dmertz dmertz 4.0K Dec 12 01:06 06-Scripts\n",
      "drwxrwxr-x  3 dmertz dmertz 4.0K Dec 20 19:46 99-Conclusion\n",
      "drwxrwxr-x  2 dmertz dmertz 4.0K Dec 12 14:02 .ipynb_checkpoints\n",
      "-rw-rw-r--  1 dmertz dmertz 1.3K Dec 20 23:00 trailer.md\n"
     ]
    }
   ],
   "source": [
    "ls -lah .."
   ]
  },
  {
   "cell_type": "markdown",
   "metadata": {},
   "source": [
    "![orange-divider](https://user-images.githubusercontent.com/7065401/92672455-187a5f80-f2ef-11ea-890c-40be9474f7b7.png)"
   ]
  },
  {
   "cell_type": "markdown",
   "metadata": {},
   "source": [
    "## Part 1\n",
    "\n",
    "**File operations at the shell**\n",
    "\n",
    "For this task, accomplish a series of things at the command line.\n",
    "\n",
    "* Create a working directory as a child of your home directory, called `ine-practice/`.\n",
    "* Switch to that directory.\n",
    "* Create the following file, named `hi`, inside that directory using an editor of your choice (don't worry that the contents probably do not make sense to you):\n",
    "\n",
    "```bash\n",
    "#!/bin/bash\n",
    "if [ -z \"$1\" ]; then\n",
    "    echo \"Hello Student!\"\n",
    "else\n",
    "    echo \"Hello $1\"\n",
    "fi\n",
    "```\n",
    "\n",
    "* Make that file executable.\n",
    "* Make the timestamp on that file be 5 days ago.\n",
    "* Verify the timestamp is set as you wish.\n",
    "* Change back to your home directory.\n",
    "* Run `ine-practice/hi [myname]`.  You should see a greeting addressed to you."
   ]
  },
  {
   "cell_type": "markdown",
   "metadata": {},
   "source": [
    "**Solution**"
   ]
  },
  {
   "cell_type": "code",
   "execution_count": 2,
   "metadata": {},
   "outputs": [
    {
     "name": "stdout",
     "output_type": "stream",
     "text": [
      "mkdir: cannot create directory ‘ine-practice’: File exists\n"
     ]
    }
   ],
   "source": [
    "cd $HOME\n",
    "mkdir ine-practice\n",
    "cd ine-practice"
   ]
  },
  {
   "cell_type": "code",
   "execution_count": 3,
   "metadata": {},
   "outputs": [],
   "source": [
    "echo '#!/bin/bash' > hi\n",
    "echo 'if [ -z \"$1\" ]; then echo \"Hello Student!\";' >> hi\n",
    "echo 'else echo \"Hello $1\"; fi' >> hi"
   ]
  },
  {
   "cell_type": "code",
   "execution_count": 4,
   "metadata": {},
   "outputs": [
    {
     "name": "stdout",
     "output_type": "stream",
     "text": [
      "-rwxrwxr-x 1 dmertz dmertz 81 Dec 16 00:29 hi\n",
      "Hello David\n"
     ]
    }
   ],
   "source": [
    "chmod +x hi\n",
    "touch -d \"5 days ago\" hi\n",
    "ls -lh hi\n",
    "cd ..\n",
    "ine-practice/hi David"
   ]
  },
  {
   "cell_type": "markdown",
   "metadata": {},
   "source": [
    "![orange-divider](https://user-images.githubusercontent.com/7065401/92672455-187a5f80-f2ef-11ea-890c-40be9474f7b7.png)\n",
    "\n",
    "## Part 2\n",
    "\n",
    "**Terminal operations**\n",
    "\n",
    "* Customize your terminal prompt. Try to make it resemble this one (I'm writing the example just after midnight):\n",
    "\n",
    "```\n",
    "(00:11) INE Student dmertz... \n",
    "```\n",
    "\n",
    "* For extra credit, see if you can figure out how to make it look like this:\n",
    "\n",
    "```\n",
    "[117×57 console] ~/ine-practice: \n",
    "```\n",
    "\n",
    "* Find the path to the `less` executable on your system.\n",
    "* Allow your prompt to locate the program you created in first part.  You should be able to run `hi Student` at the command line now.\n",
    "* Find the path to the `hi` executable on your system.\n",
    "* Display the first line of the manual for `chmod`, which will resemble this:\n",
    "\n",
    "```\n",
    "CHMOD(1)                User Commands               CHMOD(1)\n",
    "```\n"
   ]
  },
  {
   "cell_type": "markdown",
   "metadata": {},
   "source": [
    "**Solution**"
   ]
  },
  {
   "cell_type": "code",
   "execution_count": 5,
   "metadata": {},
   "outputs": [],
   "source": [
    "# export PS1=\"\\t INE Student \\u ...\"\n",
    "# export PS1=\"[$(tput cols)×$(tput lines) console] \\w@ \""
   ]
  },
  {
   "cell_type": "code",
   "execution_count": 6,
   "metadata": {},
   "outputs": [
    {
     "name": "stdout",
     "output_type": "stream",
     "text": [
      "/usr/bin/less\n"
     ]
    }
   ],
   "source": [
    "which less"
   ]
  },
  {
   "cell_type": "code",
   "execution_count": 7,
   "metadata": {},
   "outputs": [
    {
     "name": "stdout",
     "output_type": "stream",
     "text": [
      "Hello Student\n",
      "/home/dmertz/ine-practice/hi\n",
      "CHMOD(1)                         User Commands                        CHMOD(1)\n"
     ]
    }
   ],
   "source": [
    "export PATH=$PATH:$HOME/ine-practice\n",
    "hi Student\n",
    "which hi\n",
    "man chmod | head -1"
   ]
  },
  {
   "cell_type": "markdown",
   "metadata": {},
   "source": [
    "![orange-divider](https://user-images.githubusercontent.com/7065401/92672455-187a5f80-f2ef-11ea-890c-40be9474f7b7.png)\n",
    "\n",
    "## Part 3\n",
    "\n",
    "**Affordances**\n",
    "\n",
    "* Practice identifying and using commands in you history.  For example, recall your setting of your custom prompt, and modify it slightly to suit you.\n",
    "* Practice editing past commands, substituting different command switches."
   ]
  },
  {
   "cell_type": "markdown",
   "metadata": {},
   "source": [
    "![orange-divider](https://user-images.githubusercontent.com/7065401/92672455-187a5f80-f2ef-11ea-890c-40be9474f7b7.png)"
   ]
  }
 ],
 "metadata": {
  "kernelspec": {
   "display_name": "Bash",
   "language": "bash",
   "name": "bash"
  },
  "language_info": {
   "codemirror_mode": "shell",
   "file_extension": ".sh",
   "mimetype": "text/x-sh",
   "name": "bash"
  }
 },
 "nbformat": 4,
 "nbformat_minor": 4
}
